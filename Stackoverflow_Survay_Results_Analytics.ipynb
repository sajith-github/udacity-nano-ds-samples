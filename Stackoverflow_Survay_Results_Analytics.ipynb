{
 "cells": [
  {
   "cell_type": "code",
   "execution_count": 4,
   "metadata": {
    "collapsed": true,
    "pycharm": {
     "is_executing": false
    }
   },
   "outputs": [
    {
     "data": {
      "text/plain": "       Respondent                                       Professional  \\\n0               1                                            Student   \n1               2                                            Student   \n2               3                             Professional developer   \n3               4  Professional non-developer who sometimes write...   \n4               5                             Professional developer   \n...           ...                                                ...   \n19097       19098                             Professional developer   \n19098       19099                                            Student   \n19099       19100  Professional non-developer who sometimes write...   \n19100       19101                             Professional developer   \n19101       19102                             Professional developer   \n\n                    ProgramHobby         Country      University  \\\n0                      Yes, both   United States              No   \n1                      Yes, both  United Kingdom  Yes, full-time   \n2                      Yes, both  United Kingdom              No   \n3                      Yes, both   United States              No   \n4      Yes, I program as a hobby     Switzerland              No   \n...                          ...             ...             ...   \n19097  Yes, I program as a hobby          Canada              No   \n19098  Yes, I program as a hobby           India              No   \n19099  Yes, I program as a hobby  United Kingdom              No   \n19100  Yes, I program as a hobby   United States              No   \n19101  Yes, I program as a hobby          France              No   \n\n                                        EmploymentStatus  \\\n0                 Not employed, and not looking for work   \n1                                     Employed part-time   \n2                                     Employed full-time   \n3                                     Employed full-time   \n4                                     Employed full-time   \n...                                                  ...   \n19097                                 Employed full-time   \n19098             Not employed, and not looking for work   \n19099  Independent contractor, freelancer, or self-em...   \n19100                                 Employed full-time   \n19101                                 Employed full-time   \n\n                                         FormalEducation  \\\n0                                       Secondary school   \n1      Some college/university study without earning ...   \n2                                      Bachelor's degree   \n3                                        Doctoral degree   \n4                                        Master's degree   \n...                                                  ...   \n19097                                  Bachelor's degree   \n19098                                   Secondary school   \n19099                                  Bachelor's degree   \n19100  Some college/university study without earning ...   \n19101                                    Master's degree   \n\n                                      MajorUndergrad  \\\n0                                                NaN   \n1           Computer science or software engineering   \n2           Computer science or software engineering   \n3      A non-computer-focused engineering discipline   \n4           Computer science or software engineering   \n...                                              ...   \n19097                          A business discipline   \n19098                                            NaN   \n19099       Computer science or software engineering   \n19100                        A humanities discipline   \n19101       Computer science or software engineering   \n\n                                              HomeRemote  \\\n0                                                    NaN   \n1                  More than half, but not all, the time   \n2      Less than half the time, but at least one day ...   \n3      Less than half the time, but at least one day ...   \n4                                                  Never   \n...                                                  ...   \n19097                              A few days each month   \n19098                                                NaN   \n19099                                              Never   \n19100  Less than half the time, but at least one day ...   \n19101  All or almost all the time (I'm full-time remote)   \n\n                    CompanySize  ... StackOverflowMakeMoney Gender  \\\n0                           NaN  ...      Strongly disagree   Male   \n1            20 to 99 employees  ...      Strongly disagree   Male   \n2      10,000 or more employees  ...               Disagree   Male   \n3      10,000 or more employees  ...               Disagree   Male   \n4            10 to 19 employees  ...                    NaN    NaN   \n...                         ...  ...                    ...    ...   \n19097        10 to 19 employees  ...               Disagree   Male   \n19098                       NaN  ...                    NaN    NaN   \n19099                       NaN  ...                    NaN    NaN   \n19100      100 to 499 employees  ...               Disagree   Male   \n19101      100 to 499 employees  ...                    NaN    NaN   \n\n                                 HighestEducationParents  \\\n0                                            High school   \n1                                      A master's degree   \n2                                  A professional degree   \n3                                      A doctoral degree   \n4                                                    NaN   \n...                                                  ...   \n19097  Some college/university study, no bachelor's d...   \n19098                                                NaN   \n19099                                                NaN   \n19100  Some college/university study, no bachelor's d...   \n19101                                                NaN   \n\n                               Race         SurveyLong QuestionsInteresting  \\\n0      White or of European descent  Strongly disagree       Strongly agree   \n1      White or of European descent     Somewhat agree       Somewhat agree   \n2      White or of European descent     Somewhat agree                Agree   \n3      White or of European descent              Agree                Agree   \n4                               NaN                NaN                  NaN   \n...                             ...                ...                  ...   \n19097  White or of European descent     Somewhat agree                Agree   \n19098                           NaN                NaN                  NaN   \n19099                           NaN                NaN                  NaN   \n19100  White or of European descent     Somewhat agree       Somewhat agree   \n19101                           NaN                NaN                  NaN   \n\n      QuestionsConfusing InterestedAnswers    Salary  ExpectedSalary  \n0               Disagree    Strongly agree       NaN             NaN  \n1               Disagree    Strongly agree       NaN         37500.0  \n2               Disagree             Agree  113750.0             NaN  \n3         Somewhat agree    Strongly agree       NaN             NaN  \n4                    NaN               NaN       NaN             NaN  \n...                  ...               ...       ...             ...  \n19097           Disagree             Agree       NaN             NaN  \n19098                NaN               NaN       NaN             NaN  \n19099                NaN               NaN       NaN             NaN  \n19100           Disagree             Agree  110000.0             NaN  \n19101                NaN               NaN       NaN             NaN  \n\n[19102 rows x 154 columns]",
      "text/html": "<div>\n<style scoped>\n    .dataframe tbody tr th:only-of-type {\n        vertical-align: middle;\n    }\n\n    .dataframe tbody tr th {\n        vertical-align: top;\n    }\n\n    .dataframe thead th {\n        text-align: right;\n    }\n</style>\n<table border=\"1\" class=\"dataframe\">\n  <thead>\n    <tr style=\"text-align: right;\">\n      <th></th>\n      <th>Respondent</th>\n      <th>Professional</th>\n      <th>ProgramHobby</th>\n      <th>Country</th>\n      <th>University</th>\n      <th>EmploymentStatus</th>\n      <th>FormalEducation</th>\n      <th>MajorUndergrad</th>\n      <th>HomeRemote</th>\n      <th>CompanySize</th>\n      <th>...</th>\n      <th>StackOverflowMakeMoney</th>\n      <th>Gender</th>\n      <th>HighestEducationParents</th>\n      <th>Race</th>\n      <th>SurveyLong</th>\n      <th>QuestionsInteresting</th>\n      <th>QuestionsConfusing</th>\n      <th>InterestedAnswers</th>\n      <th>Salary</th>\n      <th>ExpectedSalary</th>\n    </tr>\n  </thead>\n  <tbody>\n    <tr>\n      <th>0</th>\n      <td>1</td>\n      <td>Student</td>\n      <td>Yes, both</td>\n      <td>United States</td>\n      <td>No</td>\n      <td>Not employed, and not looking for work</td>\n      <td>Secondary school</td>\n      <td>NaN</td>\n      <td>NaN</td>\n      <td>NaN</td>\n      <td>...</td>\n      <td>Strongly disagree</td>\n      <td>Male</td>\n      <td>High school</td>\n      <td>White or of European descent</td>\n      <td>Strongly disagree</td>\n      <td>Strongly agree</td>\n      <td>Disagree</td>\n      <td>Strongly agree</td>\n      <td>NaN</td>\n      <td>NaN</td>\n    </tr>\n    <tr>\n      <th>1</th>\n      <td>2</td>\n      <td>Student</td>\n      <td>Yes, both</td>\n      <td>United Kingdom</td>\n      <td>Yes, full-time</td>\n      <td>Employed part-time</td>\n      <td>Some college/university study without earning ...</td>\n      <td>Computer science or software engineering</td>\n      <td>More than half, but not all, the time</td>\n      <td>20 to 99 employees</td>\n      <td>...</td>\n      <td>Strongly disagree</td>\n      <td>Male</td>\n      <td>A master's degree</td>\n      <td>White or of European descent</td>\n      <td>Somewhat agree</td>\n      <td>Somewhat agree</td>\n      <td>Disagree</td>\n      <td>Strongly agree</td>\n      <td>NaN</td>\n      <td>37500.0</td>\n    </tr>\n    <tr>\n      <th>2</th>\n      <td>3</td>\n      <td>Professional developer</td>\n      <td>Yes, both</td>\n      <td>United Kingdom</td>\n      <td>No</td>\n      <td>Employed full-time</td>\n      <td>Bachelor's degree</td>\n      <td>Computer science or software engineering</td>\n      <td>Less than half the time, but at least one day ...</td>\n      <td>10,000 or more employees</td>\n      <td>...</td>\n      <td>Disagree</td>\n      <td>Male</td>\n      <td>A professional degree</td>\n      <td>White or of European descent</td>\n      <td>Somewhat agree</td>\n      <td>Agree</td>\n      <td>Disagree</td>\n      <td>Agree</td>\n      <td>113750.0</td>\n      <td>NaN</td>\n    </tr>\n    <tr>\n      <th>3</th>\n      <td>4</td>\n      <td>Professional non-developer who sometimes write...</td>\n      <td>Yes, both</td>\n      <td>United States</td>\n      <td>No</td>\n      <td>Employed full-time</td>\n      <td>Doctoral degree</td>\n      <td>A non-computer-focused engineering discipline</td>\n      <td>Less than half the time, but at least one day ...</td>\n      <td>10,000 or more employees</td>\n      <td>...</td>\n      <td>Disagree</td>\n      <td>Male</td>\n      <td>A doctoral degree</td>\n      <td>White or of European descent</td>\n      <td>Agree</td>\n      <td>Agree</td>\n      <td>Somewhat agree</td>\n      <td>Strongly agree</td>\n      <td>NaN</td>\n      <td>NaN</td>\n    </tr>\n    <tr>\n      <th>4</th>\n      <td>5</td>\n      <td>Professional developer</td>\n      <td>Yes, I program as a hobby</td>\n      <td>Switzerland</td>\n      <td>No</td>\n      <td>Employed full-time</td>\n      <td>Master's degree</td>\n      <td>Computer science or software engineering</td>\n      <td>Never</td>\n      <td>10 to 19 employees</td>\n      <td>...</td>\n      <td>NaN</td>\n      <td>NaN</td>\n      <td>NaN</td>\n      <td>NaN</td>\n      <td>NaN</td>\n      <td>NaN</td>\n      <td>NaN</td>\n      <td>NaN</td>\n      <td>NaN</td>\n      <td>NaN</td>\n    </tr>\n    <tr>\n      <th>...</th>\n      <td>...</td>\n      <td>...</td>\n      <td>...</td>\n      <td>...</td>\n      <td>...</td>\n      <td>...</td>\n      <td>...</td>\n      <td>...</td>\n      <td>...</td>\n      <td>...</td>\n      <td>...</td>\n      <td>...</td>\n      <td>...</td>\n      <td>...</td>\n      <td>...</td>\n      <td>...</td>\n      <td>...</td>\n      <td>...</td>\n      <td>...</td>\n      <td>...</td>\n      <td>...</td>\n    </tr>\n    <tr>\n      <th>19097</th>\n      <td>19098</td>\n      <td>Professional developer</td>\n      <td>Yes, I program as a hobby</td>\n      <td>Canada</td>\n      <td>No</td>\n      <td>Employed full-time</td>\n      <td>Bachelor's degree</td>\n      <td>A business discipline</td>\n      <td>A few days each month</td>\n      <td>10 to 19 employees</td>\n      <td>...</td>\n      <td>Disagree</td>\n      <td>Male</td>\n      <td>Some college/university study, no bachelor's d...</td>\n      <td>White or of European descent</td>\n      <td>Somewhat agree</td>\n      <td>Agree</td>\n      <td>Disagree</td>\n      <td>Agree</td>\n      <td>NaN</td>\n      <td>NaN</td>\n    </tr>\n    <tr>\n      <th>19098</th>\n      <td>19099</td>\n      <td>Student</td>\n      <td>Yes, I program as a hobby</td>\n      <td>India</td>\n      <td>No</td>\n      <td>Not employed, and not looking for work</td>\n      <td>Secondary school</td>\n      <td>NaN</td>\n      <td>NaN</td>\n      <td>NaN</td>\n      <td>...</td>\n      <td>NaN</td>\n      <td>NaN</td>\n      <td>NaN</td>\n      <td>NaN</td>\n      <td>NaN</td>\n      <td>NaN</td>\n      <td>NaN</td>\n      <td>NaN</td>\n      <td>NaN</td>\n      <td>NaN</td>\n    </tr>\n    <tr>\n      <th>19099</th>\n      <td>19100</td>\n      <td>Professional non-developer who sometimes write...</td>\n      <td>Yes, I program as a hobby</td>\n      <td>United Kingdom</td>\n      <td>No</td>\n      <td>Independent contractor, freelancer, or self-em...</td>\n      <td>Bachelor's degree</td>\n      <td>Computer science or software engineering</td>\n      <td>Never</td>\n      <td>NaN</td>\n      <td>...</td>\n      <td>NaN</td>\n      <td>NaN</td>\n      <td>NaN</td>\n      <td>NaN</td>\n      <td>NaN</td>\n      <td>NaN</td>\n      <td>NaN</td>\n      <td>NaN</td>\n      <td>NaN</td>\n      <td>NaN</td>\n    </tr>\n    <tr>\n      <th>19100</th>\n      <td>19101</td>\n      <td>Professional developer</td>\n      <td>Yes, I program as a hobby</td>\n      <td>United States</td>\n      <td>No</td>\n      <td>Employed full-time</td>\n      <td>Some college/university study without earning ...</td>\n      <td>A humanities discipline</td>\n      <td>Less than half the time, but at least one day ...</td>\n      <td>100 to 499 employees</td>\n      <td>...</td>\n      <td>Disagree</td>\n      <td>Male</td>\n      <td>Some college/university study, no bachelor's d...</td>\n      <td>White or of European descent</td>\n      <td>Somewhat agree</td>\n      <td>Somewhat agree</td>\n      <td>Disagree</td>\n      <td>Agree</td>\n      <td>110000.0</td>\n      <td>NaN</td>\n    </tr>\n    <tr>\n      <th>19101</th>\n      <td>19102</td>\n      <td>Professional developer</td>\n      <td>Yes, I program as a hobby</td>\n      <td>France</td>\n      <td>No</td>\n      <td>Employed full-time</td>\n      <td>Master's degree</td>\n      <td>Computer science or software engineering</td>\n      <td>All or almost all the time (I'm full-time remote)</td>\n      <td>100 to 499 employees</td>\n      <td>...</td>\n      <td>NaN</td>\n      <td>NaN</td>\n      <td>NaN</td>\n      <td>NaN</td>\n      <td>NaN</td>\n      <td>NaN</td>\n      <td>NaN</td>\n      <td>NaN</td>\n      <td>NaN</td>\n      <td>NaN</td>\n    </tr>\n  </tbody>\n</table>\n<p>19102 rows × 154 columns</p>\n</div>"
     },
     "metadata": {},
     "output_type": "execute_result",
     "execution_count": 4
    }
   ],
   "source": [
    "import matplotlib.pyplot as plt\n",
    "import numpy as np\n",
    "import pandas as pd\n",
    "from sklearn.linear_model import LinearRegression\n",
    "from sklearn.metrics import r2_score\n",
    "from sklearn.model_selection import train_test_split\n",
    "%matplotlib inline\n",
    "# Load the CSV dataset as pandas dataframe\n",
    "df = pd.read_csv('./data/survey_results_public.csv')\n",
    "# View head of elements at pandas df\n",
    "df.head()"
   ]
  },
  {
   "cell_type": "code",
   "execution_count": 12,
   "outputs": [
    {
     "name": "stdout",
     "text": [
      "Respondent\n",
      "Professional\n",
      "ProgramHobby\n",
      "Country\n",
      "University\n",
      "EmploymentStatus\n",
      "FormalEducation\n",
      "MajorUndergrad\n",
      "HomeRemote\n",
      "CompanySize\n",
      "CompanyType\n",
      "YearsProgram\n",
      "YearsCodedJob\n",
      "YearsCodedJobPast\n",
      "DeveloperType\n",
      "WebDeveloperType\n",
      "MobileDeveloperType\n",
      "NonDeveloperType\n",
      "CareerSatisfaction\n",
      "JobSatisfaction\n",
      "ExCoderReturn\n",
      "ExCoderNotForMe\n",
      "ExCoderBalance\n",
      "ExCoder10Years\n",
      "ExCoderBelonged\n",
      "ExCoderSkills\n",
      "ExCoderWillNotCode\n",
      "ExCoderActive\n",
      "PronounceGIF\n",
      "ProblemSolving\n",
      "BuildingThings\n",
      "LearningNewTech\n",
      "BoringDetails\n",
      "JobSecurity\n",
      "DiversityImportant\n",
      "AnnoyingUI\n",
      "FriendsDevelopers\n",
      "RightWrongWay\n",
      "UnderstandComputers\n",
      "SeriousWork\n",
      "InvestTimeTools\n",
      "WorkPayCare\n",
      "KinshipDevelopers\n",
      "ChallengeMyself\n",
      "CompetePeers\n",
      "ChangeWorld\n",
      "JobSeekingStatus\n",
      "HoursPerWeek\n",
      "LastNewJob\n",
      "AssessJobIndustry\n",
      "AssessJobRole\n",
      "AssessJobExp\n",
      "AssessJobDept\n",
      "AssessJobTech\n",
      "AssessJobProjects\n",
      "AssessJobCompensation\n",
      "AssessJobOffice\n",
      "AssessJobCommute\n",
      "AssessJobRemote\n",
      "AssessJobLeaders\n",
      "AssessJobProfDevel\n",
      "AssessJobDiversity\n",
      "AssessJobProduct\n",
      "AssessJobFinances\n",
      "ImportantBenefits\n",
      "ClickyKeys\n",
      "JobProfile\n",
      "ResumePrompted\n",
      "LearnedHiring\n",
      "ImportantHiringAlgorithms\n",
      "ImportantHiringTechExp\n",
      "ImportantHiringCommunication\n",
      "ImportantHiringOpenSource\n",
      "ImportantHiringPMExp\n",
      "ImportantHiringCompanies\n",
      "ImportantHiringTitles\n",
      "ImportantHiringEducation\n",
      "ImportantHiringRep\n",
      "ImportantHiringGettingThingsDone\n",
      "Currency\n",
      "Overpaid\n",
      "TabsSpaces\n",
      "EducationImportant\n",
      "EducationTypes\n",
      "SelfTaughtTypes\n",
      "TimeAfterBootcamp\n",
      "CousinEducation\n",
      "WorkStart\n",
      "HaveWorkedLanguage\n",
      "WantWorkLanguage\n",
      "HaveWorkedFramework\n",
      "WantWorkFramework\n",
      "HaveWorkedDatabase\n",
      "WantWorkDatabase\n",
      "HaveWorkedPlatform\n",
      "WantWorkPlatform\n",
      "IDE\n",
      "AuditoryEnvironment\n",
      "Methodology\n",
      "VersionControl\n",
      "CheckInCode\n",
      "ShipIt\n",
      "OtherPeoplesCode\n",
      "ProjectManagement\n",
      "EnjoyDebugging\n",
      "InTheZone\n",
      "DifficultCommunication\n",
      "CollaborateRemote\n",
      "MetricAssess\n",
      "EquipmentSatisfiedMonitors\n",
      "EquipmentSatisfiedCPU\n",
      "EquipmentSatisfiedRAM\n",
      "EquipmentSatisfiedStorage\n",
      "EquipmentSatisfiedRW\n",
      "InfluenceInternet\n",
      "InfluenceWorkstation\n",
      "InfluenceHardware\n",
      "InfluenceServers\n",
      "InfluenceTechStack\n",
      "InfluenceDeptTech\n",
      "InfluenceVizTools\n",
      "InfluenceDatabase\n",
      "InfluenceCloud\n",
      "InfluenceConsultants\n",
      "InfluenceRecruitment\n",
      "InfluenceCommunication\n",
      "StackOverflowDescribes\n",
      "StackOverflowSatisfaction\n",
      "StackOverflowDevices\n",
      "StackOverflowFoundAnswer\n",
      "StackOverflowCopiedCode\n",
      "StackOverflowJobListing\n",
      "StackOverflowCompanyPage\n",
      "StackOverflowJobSearch\n",
      "StackOverflowNewQuestion\n",
      "StackOverflowAnswer\n",
      "StackOverflowMetaChat\n",
      "StackOverflowAdsRelevant\n",
      "StackOverflowAdsDistracting\n",
      "StackOverflowModeration\n",
      "StackOverflowCommunity\n",
      "StackOverflowHelpful\n",
      "StackOverflowBetter\n",
      "StackOverflowWhatDo\n",
      "StackOverflowMakeMoney\n",
      "Gender\n",
      "HighestEducationParents\n",
      "Race\n",
      "SurveyLong\n",
      "QuestionsInteresting\n",
      "QuestionsConfusing\n",
      "InterestedAnswers\n",
      "Salary\n",
      "ExpectedSalary\n"
     ],
     "output_type": "stream"
    }
   ],
   "source": [
    "def clean_data(df):\n",
    "    \"\"\"\n",
    "    INPUT\n",
    "    df - pandas dataframe \n",
    "    \n",
    "    OUTPUT\n",
    "    X - A matrix holding all of the variables you want to consider when predicting the response\n",
    "    y - the corresponding response vector\n",
    "    \n",
    "    Perform to obtain the correct X and y objects\n",
    "    This function cleans df using the following steps to produce X and y:\n",
    "    1. Drop all the rows with no salaries\n",
    "    2. Create X as all the columns that are not the Salary column\n",
    "    3. Create y as the Salary column\n",
    "    4. Drop the Salary, Respondent, and the ExpectedSalary columns from X\n",
    "    5. For each numeric variable in X, fill the column with the mean value of the column.\n",
    "    6. Create dummy columns for all the categorical variables in X, drop the original columns\n",
    "    \"\"\"\n",
    "    # Drop rows with missing salary values\n",
    "    df = df.dropna(subset=['Salary'], axis=0)\n",
    "    y = df['Salary']\n",
    "    \n",
    "    # Drop respondent and expected salary colomns\n",
    "    df = df.drop(['Respondent', 'ExpectedSalary','Salary'], axis=1)\n",
    "    \n",
    "    # Fill numeric values with the mean\n",
    "    num_vars = df.select_dtypes(include=['float','int']).columns\n",
    "    for col in num_vars:\n",
    "        df[col].fillna((df[col].mean()), inplace=True)\n",
    "    # Dummy the categorical variables\n",
    "    cat_vars = df.select_dtypes(include=['object']).copy().columns\n",
    "    for var in cat_vars:\n",
    "        # For each cat add dummy var, drop original column\n",
    "        df = pd.concat([df.drop(var, axis=1), pd.get_dummies(df[var], prefix=var, prefix_sep='_', drop_first=True)], axis=1)\n",
    "        \n",
    "    X = df\n",
    "    return X, y\n",
    "    "
   ],
   "metadata": {
    "collapsed": false,
    "pycharm": {
     "name": "#%%\n",
     "is_executing": false
    }
   }
  },
  {
   "cell_type": "code",
   "execution_count": 18,
   "outputs": [
    {
     "data": {
      "text/plain": "      Gender        Salary                                           IDE  \\\n2       Male  113750.00000                   Sublime Text; Vim; IntelliJ   \n14      Male  100000.00000                                  Emacs; Xcode   \n17      Male  130000.00000                                    Emacs; Vim   \n22      Male  100764.00000                           Atom; Vim; IntelliJ   \n25      Male  175000.00000                                      IntelliJ   \n...      ...           ...                                           ...   \n19079   Male   65000.00000                Atom; Notepad++; Visual Studio   \n19086   Male   80645.16129                        Sublime Text; PHPStorm   \n19088   Male   41250.00000                                 Visual Studio   \n19089   Male   50500.00000  Notepad++; Visual Studio; Visual Studio Code   \n19100   Male  110000.00000              Sublime Text; Visual Studio Code   \n\n                    ProgramHobby         Country  \n2                      Yes, both  United Kingdom  \n14     Yes, I program as a hobby  United Kingdom  \n17                     Yes, both   United States  \n22                            No          Israel  \n25     Yes, I program as a hobby   United States  \n...                          ...             ...  \n19079  Yes, I program as a hobby   United States  \n19086                         No         Germany  \n19088  Yes, I program as a hobby  United Kingdom  \n19089  Yes, I program as a hobby  United Kingdom  \n19100  Yes, I program as a hobby   United States  \n\n[4514 rows x 5 columns]",
      "text/html": "<div>\n<style scoped>\n    .dataframe tbody tr th:only-of-type {\n        vertical-align: middle;\n    }\n\n    .dataframe tbody tr th {\n        vertical-align: top;\n    }\n\n    .dataframe thead th {\n        text-align: right;\n    }\n</style>\n<table border=\"1\" class=\"dataframe\">\n  <thead>\n    <tr style=\"text-align: right;\">\n      <th></th>\n      <th>Gender</th>\n      <th>Salary</th>\n      <th>IDE</th>\n      <th>ProgramHobby</th>\n      <th>Country</th>\n    </tr>\n  </thead>\n  <tbody>\n    <tr>\n      <th>2</th>\n      <td>Male</td>\n      <td>113750.00000</td>\n      <td>Sublime Text; Vim; IntelliJ</td>\n      <td>Yes, both</td>\n      <td>United Kingdom</td>\n    </tr>\n    <tr>\n      <th>14</th>\n      <td>Male</td>\n      <td>100000.00000</td>\n      <td>Emacs; Xcode</td>\n      <td>Yes, I program as a hobby</td>\n      <td>United Kingdom</td>\n    </tr>\n    <tr>\n      <th>17</th>\n      <td>Male</td>\n      <td>130000.00000</td>\n      <td>Emacs; Vim</td>\n      <td>Yes, both</td>\n      <td>United States</td>\n    </tr>\n    <tr>\n      <th>22</th>\n      <td>Male</td>\n      <td>100764.00000</td>\n      <td>Atom; Vim; IntelliJ</td>\n      <td>No</td>\n      <td>Israel</td>\n    </tr>\n    <tr>\n      <th>25</th>\n      <td>Male</td>\n      <td>175000.00000</td>\n      <td>IntelliJ</td>\n      <td>Yes, I program as a hobby</td>\n      <td>United States</td>\n    </tr>\n    <tr>\n      <th>...</th>\n      <td>...</td>\n      <td>...</td>\n      <td>...</td>\n      <td>...</td>\n      <td>...</td>\n    </tr>\n    <tr>\n      <th>19079</th>\n      <td>Male</td>\n      <td>65000.00000</td>\n      <td>Atom; Notepad++; Visual Studio</td>\n      <td>Yes, I program as a hobby</td>\n      <td>United States</td>\n    </tr>\n    <tr>\n      <th>19086</th>\n      <td>Male</td>\n      <td>80645.16129</td>\n      <td>Sublime Text; PHPStorm</td>\n      <td>No</td>\n      <td>Germany</td>\n    </tr>\n    <tr>\n      <th>19088</th>\n      <td>Male</td>\n      <td>41250.00000</td>\n      <td>Visual Studio</td>\n      <td>Yes, I program as a hobby</td>\n      <td>United Kingdom</td>\n    </tr>\n    <tr>\n      <th>19089</th>\n      <td>Male</td>\n      <td>50500.00000</td>\n      <td>Notepad++; Visual Studio; Visual Studio Code</td>\n      <td>Yes, I program as a hobby</td>\n      <td>United Kingdom</td>\n    </tr>\n    <tr>\n      <th>19100</th>\n      <td>Male</td>\n      <td>110000.00000</td>\n      <td>Sublime Text; Visual Studio Code</td>\n      <td>Yes, I program as a hobby</td>\n      <td>United States</td>\n    </tr>\n  </tbody>\n</table>\n<p>4514 rows × 5 columns</p>\n</div>"
     },
     "metadata": {},
     "output_type": "execute_result",
     "execution_count": 18
    }
   ],
   "source": [
    "#Use the function to create X and y\n",
    "X, y = clean_data(df) "
   ],
   "metadata": {
    "collapsed": false,
    "pycharm": {
     "name": "#%%\n",
     "is_executing": false
    }
   }
  },
  {
   "cell_type": "code",
   "execution_count": null,
   "outputs": [],
   "source": [
    "def find_optimal_lm_mod(X, y, cutoffs, test_size = .30, random_state=42, plot=True):\n",
    "    \"\"\"\n",
    "    INPUT\n",
    "    X - pandas dataframe, X matrix\n",
    "    y - pandas dataframe, response variable\n",
    "    cutoffs - list of ints, cutoff for number of non-zero values in dummy categorical vars\n",
    "    test_size - float between 0 and 1, default 0.3, determines the proportion of data as test data\n",
    "    random_state - int, default 42, controls random state for train_test_split\n",
    "    plot - boolean, default 0.3, True to plot result\n",
    "\n",
    "    OUTPUT\n",
    "    r2_scores_test - list of floats of r2 scores on the test data\n",
    "    r2_scores_train - list of floats of r2 scores on the train data\n",
    "    lm_model - model object from sklearn\n",
    "    X_train, X_test, y_train, y_test - output from sklearn train test split used for optimal model\n",
    "    \"\"\"\n",
    "    r2_scores_test, r2_scores_train, num_feats, results = [], [], [], dict()\n",
    "    for cutoff in cutoffs:\n",
    "\n",
    "        # reduce X matrix\n",
    "        reduce_X = X.iloc[:, np.where((X.sum() > cutoff) == True)[0]]\n",
    "        num_feats.append(reduce_X.shape[1])\n",
    "\n",
    "        # split the data into train and test\n",
    "        X_train, X_test, y_train, y_test = train_test_split(reduce_X, y, test_size = test_size, random_state=random_state)\n",
    "\n",
    "        # fit the model and obtain pred response\n",
    "        lm_model = LinearRegression(normalize=True)\n",
    "        lm_model.fit(X_train, y_train)\n",
    "        y_test_preds = lm_model.predict(X_test)\n",
    "        y_train_preds = lm_model.predict(X_train)\n",
    "\n",
    "        # append the r2 value from the test set\n",
    "        r2_scores_test.append(r2_score(y_test, y_test_preds))\n",
    "        r2_scores_train.append(r2_score(y_train, y_train_preds))\n",
    "        results[str(cutoff)] = r2_score(y_test, y_test_preds)\n",
    "\n",
    "    if plot:\n",
    "        plt.plot(num_feats, r2_scores_test, label=\"Test\", alpha=.5)\n",
    "        plt.plot(num_feats, r2_scores_train, label=\"Train\", alpha=.5)\n",
    "        plt.xlabel('Number of Features')\n",
    "        plt.ylabel('Rsquared')\n",
    "        plt.title('Rsquared by Number of Features')\n",
    "        plt.legend(loc=1)\n",
    "        plt.show()\n",
    "\n",
    "    best_cutoff = max(results, key=results.get)\n",
    "\n",
    "    # reduce X matrix\n",
    "    reduce_X = X.iloc[:, np.where((X.sum() > int(best_cutoff)) == True)[0]]\n",
    "    num_feats.append(reduce_X.shape[1])\n",
    "\n",
    "    # split the data into train and test\n",
    "    X_train, X_test, y_train, y_test = train_test_split(reduce_X, y, test_size = test_size, random_state=random_state)\n",
    "\n",
    "    # fit the model\n",
    "    lm_model = LinearRegression(normalize=True)\n",
    "    lm_model.fit(X_train, y_train)\n",
    "\n",
    "    return r2_scores_test, r2_scores_train, lm_model, X_train, X_test, y_train, y_test"
   ],
   "metadata": {
    "collapsed": false,
    "pycharm": {
     "name": "#%%\n"
    }
   }
  },
  {
   "cell_type": "code",
   "execution_count": null,
   "outputs": [],
   "source": [
    "# Cutoffs here pertains to the number of missing values allowed in the used columns.\n",
    "# Therefore, lower values for the cutoff provides more predictors in the model.\n",
    "cutoffs = [5000, 3500, 2500, 1000, 100, 50, 30, 25]\n",
    "\n",
    "r2_scores_test, r2_scores_train, lm_model, X_train, X_test, y_train, y_test = find_optimal_lm_mod(X, y, cutoffs)"
   ],
   "metadata": {
    "collapsed": false,
    "pycharm": {
     "name": "#%%\n"
    }
   }
  },
  {
   "cell_type": "code",
   "execution_count": null,
   "outputs": [],
   "source": [
    "def coef_weights(coefficients, X_train):\n",
    "    \"\"\"\n",
    "    INPUT:\n",
    "    coefficients - the coefficients of the linear model \n",
    "    X_train - the training data, so the column names can be used\n",
    "    OUTPUT:\n",
    "    coefs_df - a dataframe holding the coefficient, estimate, and abs(estimate)\n",
    "    \n",
    "    Provides a dataframe that can be used to understand the most influential coefficients\n",
    "    in a linear model by providing the coefficient estimates along with the name of the \n",
    "    variable attached to the coefficient.\n",
    "    \"\"\"\n",
    "    coefs_df = pd.DataFrame()\n",
    "    coefs_df['est_int'] = X_train.columns\n",
    "    coefs_df['coefs'] = lm_model.coef_\n",
    "    coefs_df['abs_coefs'] = np.abs(lm_model.coef_)\n",
    "    coefs_df = coefs_df.sort_values('abs_coefs', ascending=False)\n",
    "    return coefs_df"
   ],
   "metadata": {
    "collapsed": false,
    "pycharm": {
     "name": "#%%\n"
    }
   }
  },
  {
   "cell_type": "code",
   "execution_count": null,
   "outputs": [],
   "source": [
    "# Use the function\n",
    "coef_df = coef_weights(lm_model.coef_, X_train)\n",
    "\n",
    "# A quick look at the top results\n",
    "coef_df.head(20)"
   ],
   "metadata": {
    "collapsed": false,
    "pycharm": {
     "name": "#%%\n"
    }
   }
  }
 ],
 "metadata": {
  "kernelspec": {
   "display_name": "Python 3",
   "language": "python",
   "name": "python3"
  },
  "language_info": {
   "codemirror_mode": {
    "name": "ipython",
    "version": 2
   },
   "file_extension": ".py",
   "mimetype": "text/x-python",
   "name": "python",
   "nbconvert_exporter": "python",
   "pygments_lexer": "ipython2",
   "version": "2.7.6"
  },
  "pycharm": {
   "stem_cell": {
    "cell_type": "raw",
    "source": [],
    "metadata": {
     "collapsed": false
    }
   }
  }
 },
 "nbformat": 4,
 "nbformat_minor": 0
}